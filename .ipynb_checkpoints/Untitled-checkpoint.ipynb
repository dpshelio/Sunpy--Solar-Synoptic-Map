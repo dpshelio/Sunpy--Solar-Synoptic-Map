{
 "cells": [
  {
   "cell_type": "code",
   "execution_count": 12,
   "metadata": {},
   "outputs": [],
   "source": [
    "from mergeSolar import *"
   ]
  },
  {
   "cell_type": "code",
   "execution_count": 40,
   "metadata": {},
   "outputs": [],
   "source": [
    "from sunpy.util.scraper import Scraper\n",
    "from sunpy.time import TimeRange\n",
    "import urllib.request\n",
    "import os\n",
    "import gzip\n",
    "import shutil\n",
    "\n",
    "def getURLFromSM(inst,wv,soon,late):\n",
    "\n",
    "    solmon_pattern = (\n",
    "                             'http://solarmonitor.org/data/'\n",
    "                             '%Y/%m/%d/fits/{instrument}/'\n",
    "                             '{instrument}_{wave:05d}_fd_%Y%m%d_%H%M%S.fts.gz'\n",
    "                       );\n",
    "    solmon = Scraper(solmon_pattern, instrument = inst, wave = wv);\n",
    "    \n",
    "    timerange = TimeRange(late,soon); \n",
    "    list_urls = solmon.filelist(timerange); \n",
    "    return list_urls; \n",
    "\n",
    "\n",
    "def downloadFITSfrom(urls,dir_cont):\n",
    "    print(\" La carpeta almacenadora es : \" + dir_cont + \"\\n\") ;\n",
    "    try:\n",
    "      os.stat(dir_cont) ; \n",
    "    except:\n",
    "      os.mkdir(dir_cont) ; \n",
    "    \n",
    "    # Lo primero es descargarlos\n",
    "    \n",
    "    print(\"Descargando archivos ...\" + \"\\n\");\n",
    "    \n",
    "    for elem in urls:\n",
    "        dir_out = elem[elem.index(dir_cont):] ; \n",
    "        \n",
    "        print(\"\\t\" + \"La ruta donde se almacenara el archivo es : \" + dir_out + \"\\n\"); \n",
    "            \n",
    "        archivo_tmp, header = urllib.request.urlretrieve(elem)\n",
    "        with open(dir_out, 'wb') as archivo:\n",
    "           with open(archivo_tmp, 'rb') as tmp:\n",
    "                archivo.write(tmp.read())\n",
    "      \n",
    "    # Lo segundo es descomprimirlos\n",
    "    \n",
    "    print(\"Descomprimiendo archivos ...\" + \"\\n\")\n",
    "    for path_fits in os.listdir(dir_cont):\n",
    "            if ( path_fits[-3:] == '.gz'):\n",
    "                path     = dir_cont + \"/\" + path_fits ; \n",
    "                print(\"\\t\" + \"El archivo se descomprimirá como :\" + path[:-3] + \"\\n\"); \n",
    "                with gzip.open(path, 'rb') as f_in:\n",
    "                    with open(path[:-3], 'wb') as f_out:\n",
    "                        shutil.copyfileobj(f_in, f_out);\n",
    "                        f_in.close(); \n",
    "                        f_out.close();\n",
    "                        os.remove(path); \n",
    "                        \n",
    "                        \n",
    "        "
   ]
  },
  {
   "cell_type": "code",
   "execution_count": 41,
   "metadata": {},
   "outputs": [
    {
     "name": "stdout",
     "output_type": "stream",
     "text": [
      "swap/swap_00174_fd_20150101_025423.fts.gz\n",
      "swap/swap_00174_fd_20150101_061145.fts.gz\n",
      "swap/swap_00174_fd_20150101_093037.fts.gz\n",
      "swap/swap_00174_fd_20150101_124927.fts.gz\n",
      " La carpeta almacenadora es : swap\n",
      "\n",
      "Descargando archivos ...\n",
      "\n",
      "\tLa ruta donde se almacenara el archivo es : swap/swap_00174_fd_20150101_025423.fts.gz\n",
      "\n",
      "\tLa ruta donde se almacenara el archivo es : swap/swap_00174_fd_20150101_061145.fts.gz\n",
      "\n",
      "\tLa ruta donde se almacenara el archivo es : swap/swap_00174_fd_20150101_093037.fts.gz\n",
      "\n",
      "\tLa ruta donde se almacenara el archivo es : swap/swap_00174_fd_20150101_124927.fts.gz\n",
      "\n",
      "Descomprimiendo archivos ...\n",
      "\n",
      "\tEl archivo se descomprimirá como :swap/swap_00174_fd_20150101_025423.fts\n",
      "\n",
      "\tEl archivo se descomprimirá como :swap/swap_00174_fd_20150101_061145.fts\n",
      "\n",
      "\tEl archivo se descomprimirá como :swap/swap_00174_fd_20150101_093037.fts\n",
      "\n",
      "\tEl archivo se descomprimirá como :swap/swap_00174_fd_20150101_124927.fts\n",
      "\n"
     ]
    }
   ],
   "source": [
    "inst = 'swap'\n",
    "wave = 174\n",
    "soon = '2015-01-01T16:00:00'\n",
    "late = '2015-01-01'\n",
    "\n",
    "urls = getURLFromSM(inst,wave,soon,late) ; \n",
    "\n",
    "for elem in urls:\n",
    "    print(elem[elem.index(inst):])\n",
    "    #print(elem[:-3])\n",
    "downloadFITSfrom(urls,inst) ; \n",
    "\n",
    "#str.replace(/abc/g, '');\n",
    "#mergeSolarImagesFromDir(\"FITS_def/\",25,\"OUT/mapa_sinaptico.png\",50,\"sdoaia171\");"
   ]
  },
  {
   "cell_type": "code",
   "execution_count": null,
   "metadata": {},
   "outputs": [],
   "source": []
  },
  {
   "cell_type": "code",
   "execution_count": null,
   "metadata": {},
   "outputs": [],
   "source": []
  }
 ],
 "metadata": {
  "kernelspec": {
   "display_name": "Python 3",
   "language": "python",
   "name": "python3"
  },
  "language_info": {
   "codemirror_mode": {
    "name": "ipython",
    "version": 3
   },
   "file_extension": ".py",
   "mimetype": "text/x-python",
   "name": "python",
   "nbconvert_exporter": "python",
   "pygments_lexer": "ipython3",
   "version": "3.7.1"
  }
 },
 "nbformat": 4,
 "nbformat_minor": 2
}
