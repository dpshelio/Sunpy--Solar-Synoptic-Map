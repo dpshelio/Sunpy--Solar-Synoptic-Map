{
 "cells": [
  {
   "cell_type": "code",
   "execution_count": 43,
   "metadata": {},
   "outputs": [
    {
     "ename": "ModuleNotFoundError",
     "evalue": "No module named 'urllib2'",
     "output_type": "error",
     "traceback": [
      "\u001b[1;31m---------------------------------------------------------------------------\u001b[0m",
      "\u001b[1;31mModuleNotFoundError\u001b[0m                       Traceback (most recent call last)",
      "\u001b[1;32m<ipython-input-43-076a6710bbf8>\u001b[0m in \u001b[0;36m<module>\u001b[1;34m\u001b[0m\n\u001b[0;32m      2\u001b[0m \u001b[1;32mfrom\u001b[0m \u001b[0msunpy\u001b[0m\u001b[1;33m.\u001b[0m\u001b[0mutil\u001b[0m\u001b[1;33m.\u001b[0m\u001b[0mscraper\u001b[0m \u001b[1;32mimport\u001b[0m \u001b[0mScraper\u001b[0m\u001b[1;33m\u001b[0m\u001b[1;33m\u001b[0m\u001b[0m\n\u001b[0;32m      3\u001b[0m \u001b[1;32mfrom\u001b[0m \u001b[0msunpy\u001b[0m\u001b[1;33m.\u001b[0m\u001b[0mtime\u001b[0m \u001b[1;32mimport\u001b[0m \u001b[0mTimeRange\u001b[0m\u001b[1;33m\u001b[0m\u001b[1;33m\u001b[0m\u001b[0m\n\u001b[1;32m----> 4\u001b[1;33m \u001b[1;32mimport\u001b[0m \u001b[0murllib2\u001b[0m\u001b[1;33m\u001b[0m\u001b[1;33m\u001b[0m\u001b[0m\n\u001b[0m\u001b[0;32m      5\u001b[0m \u001b[1;32mimport\u001b[0m \u001b[0mStringIO\u001b[0m\u001b[1;33m\u001b[0m\u001b[1;33m\u001b[0m\u001b[0m\n\u001b[0;32m      6\u001b[0m \u001b[1;32mimport\u001b[0m \u001b[0mgzip\u001b[0m\u001b[1;33m\u001b[0m\u001b[1;33m\u001b[0m\u001b[0m\n",
      "\u001b[1;31mModuleNotFoundError\u001b[0m: No module named 'urllib2'"
     ]
    }
   ],
   "source": [
    "from mergeSolar import *\n",
    "from sunpy.util.scraper import Scraper\n",
    "from sunpy.time import TimeRange\n",
    "import urllib2\n",
    "import StringIO\n",
    "import gzip\n"
   ]
  },
  {
   "cell_type": "code",
   "execution_count": 23,
   "metadata": {},
   "outputs": [],
   "source": [
    "def getURLFromSM(inst,wv,soon,late):\n",
    "\n",
    "    solmon_pattern = (\n",
    "                             'http://solarmonitor.org/data/'\n",
    "                             '%Y/%m/%d/fits/{instrument}/'\n",
    "                             '{instrument}_{wave:05d}_fd_%Y%m%d_%H%M%S.fts.gz'\n",
    "                       );\n",
    "    solmon = Scraper(solmon_pattern, instrument = inst, wave = wv);\n",
    "    \n",
    "    timerange = TimeRange(late,soon); \n",
    "    list_urls = solmon.filelist(timerange); \n",
    "    return list_urls; \n",
    "\n",
    "\n",
    "def downloadFITSfrom(urls,dir_out):\n",
    "    for elem in urls:\n",
    "        dir_out = elem[elem.index(inst):] ; \n",
    "        #wget.download(elem, dir_out); \n",
    "        \n",
    "        \n",
    "        response = urllib2.urlopen(elem)\n",
    "        compressedFile = StringIO.StringIO()\n",
    "        compressedFile.write(response.read())\n",
    "        compressedFile.seek(0)\n",
    "        decompressedFile = gzip.GzipFile(fileobj=compressedFile, mode='rb')\n",
    "        \n",
    "        with open(dir_out, 'w') as outfile:\n",
    "            outfile.write(decompressedFile.read())"
   ]
  },
  {
   "cell_type": "code",
   "execution_count": 40,
   "metadata": {},
   "outputs": [
    {
     "name": "stdout",
     "output_type": "stream",
     "text": [
      "swap/swap_00174_fd_20150101_025423.fts.gz\n",
      "swap/swap_00174_fd_20150101_061145.fts.gz\n",
      "swap/swap_00174_fd_20150101_093037.fts.gz\n",
      "swap/swap_00174_fd_20150101_124927.fts.gz\n"
     ]
    }
   ],
   "source": [
    "inst = 'swap'\n",
    "wave = 174\n",
    "soon = '2015-01-01T16:00:00'\n",
    "late = '2015-01-01'\n",
    "\n",
    "urls = getURLFromSM(inst,wave,soon,late) ; \n",
    "\n",
    "for elem in urls:\n",
    "    print(elem[elem.index(inst):])\n",
    "#downloadFITSfrom(urls,inst) ; \n",
    "\n",
    "#str.replace(/abc/g, '');\n",
    "#mergeSolarImagesFromDir(\"FITS_def/\",25,\"OUT/mapa_sinaptico.png\",50,\"sdoaia171\");"
   ]
  },
  {
   "cell_type": "code",
   "execution_count": null,
   "metadata": {},
   "outputs": [],
   "source": []
  },
  {
   "cell_type": "code",
   "execution_count": null,
   "metadata": {},
   "outputs": [],
   "source": []
  }
 ],
 "metadata": {
  "kernelspec": {
   "display_name": "Python 3",
   "language": "python",
   "name": "python3"
  },
  "language_info": {
   "codemirror_mode": {
    "name": "ipython",
    "version": 3
   },
   "file_extension": ".py",
   "mimetype": "text/x-python",
   "name": "python",
   "nbconvert_exporter": "python",
   "pygments_lexer": "ipython3",
   "version": "3.7.3"
  }
 },
 "nbformat": 4,
 "nbformat_minor": 2
}
